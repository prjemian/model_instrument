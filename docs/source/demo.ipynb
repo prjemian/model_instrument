{
 "cells": [
  {
   "cell_type": "markdown",
   "metadata": {},
   "source": [
    "# Demo: Notebook Startup"
   ]
  },
  {
   "cell_type": "code",
   "execution_count": 1,
   "metadata": {},
   "outputs": [
    {
     "name": "stderr",
     "output_type": "stream",
     "text": [
      "I Tue-12:58:01.529: **************************************** Bluesky Startup Initialized\n"
     ]
    },
    {
     "name": "stdout",
     "output_type": "stream",
     "text": [
      "\n",
      "Below are the IPython logging settings for your session.\n",
      "These settings have no impact on your experiment.\n",
      "\n",
      "Activating auto-logging. Current session state plus future input saved.\n",
      "Filename       : /home/prjemian/Documents/projects/prjemian/model_instrument/docs/source/.logs/ipython_log.py\n",
      "Mode           : rotate\n",
      "Output logging : True\n",
      "Raw input log  : False\n",
      "Timestamping   : True\n",
      "State          : active\n"
     ]
    },
    {
     "name": "stderr",
     "output_type": "stream",
     "text": [
      "W Tue-12:58:01.926: APS DM setup file does not exist: '/home/dm/etc/dm.setup.sh'\n"
     ]
    },
    {
     "name": "stdout",
     "output_type": "stream",
     "text": [
      "Exception reporting mode: Minimal\n",
      "\n",
      "End of IPython settings\n",
      "\n"
     ]
    },
    {
     "name": "stderr",
     "output_type": "stream",
     "text": [
      "I Tue-12:58:03.043: Databroker catalog: temp\n",
      "I Tue-12:58:03.120: RunEngine metadata saved in directory: /home/prjemian/.config/Bluesky_RunEngine_md\n",
      "I Tue-12:58:03.122: using ophyd control layer: 'pyepics'\n",
      "I Tue-12:58:03.184: SPEC data file: /home/prjemian/Documents/projects/prjemian/model_instrument/docs/source/20241015-125803.dat\n"
     ]
    }
   ],
   "source": [
    "from instrument.startup import *  # noqa"
   ]
  },
  {
   "cell_type": "code",
   "execution_count": 2,
   "metadata": {},
   "outputs": [],
   "source": [
    "# import some plans with simulators from the test suite\n",
    "from instrument.tests.sim_plans import sim_count_plan\n",
    "from instrument.tests.sim_plans import sim_print_plan\n",
    "from instrument.tests.sim_plans import sim_rel_scan_plan"
   ]
  },
  {
   "cell_type": "code",
   "execution_count": 3,
   "metadata": {},
   "outputs": [
    {
     "name": "stdout",
     "output_type": "stream",
     "text": [
      "sim_print_plan(): This is a test.\n",
      "sim_print_plan():  motor.position=0  noisy_det.read()=OrderedDict({'noisy_det': {'value': 1.0991492961410196, 'timestamp': 1729015083.0380905}}).\n"
     ]
    },
    {
     "data": {
      "text/plain": [
       "()"
      ]
     },
     "execution_count": 3,
     "metadata": {},
     "output_type": "execute_result"
    }
   ],
   "source": [
    "RE(sim_print_plan())"
   ]
  },
  {
   "cell_type": "code",
   "execution_count": 4,
   "metadata": {},
   "outputs": [
    {
     "name": "stdout",
     "output_type": "stream",
     "text": [
      "\n",
      "\n",
      "Transient Scan ID: 97     Time: 2024-10-15 12:58:03\n",
      "Persistent Unique Scan ID: '6dc38cb1-7832-4de3-8460-687795e9ce3e'\n",
      "New stream: 'primary'\n",
      "+-----------+------------+------------+\n",
      "|   seq_num |       time |  noisy_det |\n",
      "+-----------+------------+------------+\n",
      "|         1 | 12:58:03.2 |  10000.084 |\n",
      "+-----------+------------+------------+\n",
      "generator count ['6dc38cb1'] (scan num: 97)\n",
      "\n",
      "\n",
      "\n"
     ]
    },
    {
     "data": {
      "text/plain": [
       "('6dc38cb1-7832-4de3-8460-687795e9ce3e',)"
      ]
     },
     "execution_count": 4,
     "metadata": {},
     "output_type": "execute_result"
    }
   ],
   "source": [
    "RE(sim_count_plan())"
   ]
  },
  {
   "cell_type": "code",
   "execution_count": 5,
   "metadata": {},
   "outputs": [
    {
     "name": "stdout",
     "output_type": "stream",
     "text": [
      "sim_rel_scan_plan(): motor.position=0.\n",
      "sim_rel_scan_plan(): noisy_det.read()=OrderedDict({'noisy_det': {'value': 10000.083967469182, 'timestamp': 1729015083.2474928}}).\n",
      "sim_rel_scan_plan(): noisy_det.read_configuration()=OrderedDict({'noisy_det_Imax': {'value': 10000, 'timestamp': 1729015083.3625894}, 'noisy_det_center': {'value': 0, 'timestamp': 1729015083.363047}, 'noisy_det_sigma': {'value': 1, 'timestamp': 1729015083.363231}, 'noisy_det_noise': {'value': 'uniform', 'timestamp': 1729015083.3636312}, 'noisy_det_noise_multiplier': {'value': 0.1, 'timestamp': 1729015083.0378728}}).\n",
      "sim_rel_scan_plan(): noisy_det.noise._enum_strs=('none', 'poisson', 'uniform').\n",
      "\n",
      "\n",
      "Transient Scan ID: 98     Time: 2024-10-15 12:58:03\n",
      "Persistent Unique Scan ID: '77e29df9-cf62-479a-a52e-74c10a8b81c6'\n",
      "New stream: 'primary'\n",
      "+-----------+------------+------------+------------+\n",
      "|   seq_num |       time |      motor |  noisy_det |\n",
      "+-----------+------------+------------+------------+\n",
      "|         1 | 12:58:03.3 |     -2.500 |    439.276 |\n",
      "|         2 | 12:58:03.4 |     -2.000 |   1353.271 |\n",
      "|         3 | 12:58:03.4 |     -1.500 |   3246.571 |\n",
      "|         4 | 12:58:03.5 |     -1.000 |   6065.359 |\n",
      "|         5 | 12:58:03.5 |     -0.500 |   8825.029 |\n",
      "|         6 | 12:58:03.6 |      0.000 |  10000.018 |\n",
      "|         7 | 12:58:03.6 |      0.500 |   8824.998 |\n",
      "|         8 | 12:58:03.7 |      1.000 |   6065.233 |\n",
      "|         9 | 12:58:03.7 |      1.500 |   3246.547 |\n",
      "|        10 | 12:58:03.7 |      2.000 |   1353.260 |\n",
      "|        11 | 12:58:03.8 |      2.500 |    439.443 |\n",
      "+-----------+------------+------------+------------+\n",
      "generator rel_scan ['77e29df9'] (scan num: 98)\n",
      "\n",
      "\n",
      "\n"
     ]
    },
    {
     "data": {
      "text/plain": [
       "('77e29df9-cf62-479a-a52e-74c10a8b81c6',)"
      ]
     },
     "execution_count": 5,
     "metadata": {},
     "output_type": "execute_result"
    },
    {
     "data": {
      "image/png": "[encoded data removed]",
      "text/plain": [
       "<Figure size 500x500 with 1 Axes>"
      ]
     },
     "metadata": {},
     "output_type": "display_data"
    }
   ],
   "source": [
    "RE(sim_rel_scan_plan())"
   ]
  }
 ],
 "metadata": {
  "kernelspec": {
   "display_name": "model_instrument_env",
   "language": "python",
   "name": "python3"
  },
  "language_info": {
   "codemirror_mode": {
    "name": "ipython",
    "version": 3
   },
   "file_extension": ".py",
   "mimetype": "text/x-python",
   "name": "python",
   "nbconvert_exporter": "python",
   "pygments_lexer": "ipython3",
   "version": "3.12.7"
  }
 },
 "nbformat": 4,
 "nbformat_minor": 2
}
