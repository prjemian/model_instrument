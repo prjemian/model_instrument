{
 "cells": [
  {
   "cell_type": "markdown",
   "metadata": {},
   "source": [
    "# Demo: Notebook Startup"
   ]
  },
  {
   "cell_type": "code",
   "execution_count": 1,
   "metadata": {},
   "outputs": [
    {
     "name": "stderr",
     "output_type": "stream",
     "text": [
      "I Mon-12:04:02.840: **************************************** startup\n",
      "I Mon-12:04:02.840: /home/prjemian/Documents/projects/prjemian/model_instrument/src/instrument/utils/logging_setup.py\n",
      "I Mon-12:04:02.841: Log file: /home/prjemian/Documents/projects/prjemian/model_instrument/docs/source/.logs/logging.log\n",
      "I Mon-12:04:02.842: Console logging: /home/prjemian/Documents/projects/prjemian/model_instrument/docs/source/.logs/ipython_log.py\n",
      "I Mon-12:04:02.842: /home/prjemian/Documents/projects/prjemian/model_instrument/src/instrument/startup.py\n",
      "I Mon-12:04:02.843: /home/prjemian/Documents/projects/prjemian/model_instrument/src/instrument/utils/aps_functions.py\n"
     ]
    },
    {
     "name": "stdout",
     "output_type": "stream",
     "text": [
      "Activating auto-logging. Current session state plus future input saved.\n",
      "Filename       : /home/prjemian/Documents/projects/prjemian/model_instrument/docs/source/.logs/ipython_log.py\n",
      "Mode           : rotate\n",
      "Output logging : True\n",
      "Raw input log  : False\n",
      "Timestamping   : True\n",
      "State          : active\n"
     ]
    },
    {
     "name": "stderr",
     "output_type": "stream",
     "text": [
      "I Mon-12:04:03.177: /home/prjemian/Documents/projects/prjemian/model_instrument/src/instrument/utils/helper_functions.py\n",
      "I Mon-12:04:03.177: xmode exception level: 'Minimal'\n",
      "W Mon-12:04:03.177: APS DM setup file does not exist: '/home/dm/etc/dm.setup.sh'\n",
      "I Mon-12:04:03.301: /home/prjemian/Documents/projects/prjemian/model_instrument/src/instrument/core/best_effort_init.py\n"
     ]
    },
    {
     "name": "stdout",
     "output_type": "stream",
     "text": [
      "Exception reporting mode: Minimal\n"
     ]
    },
    {
     "name": "stderr",
     "output_type": "stream",
     "text": [
      "I Mon-12:04:03.901: /home/prjemian/Documents/projects/prjemian/model_instrument/src/instrument/core/catalog_init.py\n",
      "I Mon-12:04:04.299: Databroker catalog: temp\n",
      "I Mon-12:04:04.301: /home/prjemian/Documents/projects/prjemian/model_instrument/src/instrument/utils/controls_setup.py\n",
      "I Mon-12:04:04.373: /home/prjemian/Documents/projects/prjemian/model_instrument/src/instrument/utils/metadata.py\n",
      "I Mon-12:04:04.373: RunEngine metadata saved in directory: /home/prjemian/.config/Bluesky_RunEngine_md\n",
      "I Mon-12:04:04.373: /home/prjemian/Documents/projects/prjemian/model_instrument/src/instrument/core/run_engine_init.py\n",
      "I Mon-12:04:04.376: using ophyd control layer: 'pyepics'\n",
      "I Mon-12:04:04.435: /home/prjemian/Documents/projects/prjemian/model_instrument/src/instrument/callbacks/spec_data_file_writer.py\n",
      "I Mon-12:04:04.435: SPEC data file: /home/prjemian/Documents/projects/prjemian/model_instrument/docs/source/20241014-120404.dat\n",
      "I Mon-12:04:04.469: /home/prjemian/Documents/projects/prjemian/model_instrument/src/instrument/tests/sim_plans.py\n"
     ]
    }
   ],
   "source": [
    "from instrument.startup import *  # noqa"
   ]
  },
  {
   "cell_type": "code",
   "execution_count": 2,
   "metadata": {},
   "outputs": [],
   "source": [
    "# import some plans with simulators from the test suite\n",
    "from instrument.tests.sim_plans import sim_count_plan\n",
    "from instrument.tests.sim_plans import sim_print_plan\n",
    "from instrument.tests.sim_plans import sim_rel_scan_plan"
   ]
  },
  {
   "cell_type": "code",
   "execution_count": 3,
   "metadata": {},
   "outputs": [
    {
     "name": "stdout",
     "output_type": "stream",
     "text": [
      "sim_print_plan(): This is a test.\n",
      "sim_print_plan():  motor.position=0  noisy_det.read()=OrderedDict({'noisy_det': {'value': 1.0765069514472936, 'timestamp': 1728925444.2937393}}).\n"
     ]
    },
    {
     "data": {
      "text/plain": [
       "()"
      ]
     },
     "execution_count": 3,
     "metadata": {},
     "output_type": "execute_result"
    }
   ],
   "source": [
    "RE(sim_print_plan())"
   ]
  },
  {
   "cell_type": "code",
   "execution_count": 4,
   "metadata": {},
   "outputs": [
    {
     "name": "stdout",
     "output_type": "stream",
     "text": [
      "\n",
      "\n",
      "Transient Scan ID: 71     Time: 2024-10-14 12:04:04\n",
      "Persistent Unique Scan ID: '8e213d24-11c0-4bdf-af61-5a1de947c218'\n",
      "New stream: 'primary'\n",
      "+-----------+------------+------------+\n",
      "|   seq_num |       time |  noisy_det |\n",
      "+-----------+------------+------------+\n",
      "|         1 | 12:04:04.5 |  10000.047 |\n",
      "+-----------+------------+------------+\n",
      "generator count ['8e213d24'] (scan num: 71)\n",
      "\n",
      "\n",
      "\n"
     ]
    },
    {
     "data": {
      "text/plain": [
       "('8e213d24-11c0-4bdf-af61-5a1de947c218',)"
      ]
     },
     "execution_count": 4,
     "metadata": {},
     "output_type": "execute_result"
    }
   ],
   "source": [
    "RE(sim_count_plan())"
   ]
  },
  {
   "cell_type": "code",
   "execution_count": 5,
   "metadata": {},
   "outputs": [
    {
     "name": "stdout",
     "output_type": "stream",
     "text": [
      "sim_rel_scan_plan(): motor.position=0.\n",
      "sim_rel_scan_plan(): noisy_det.read()=OrderedDict({'noisy_det': {'value': 10000.04659763566, 'timestamp': 1728925444.496191}}).\n",
      "sim_rel_scan_plan(): noisy_det.read_configuration()=OrderedDict({'noisy_det_Imax': {'value': 10000, 'timestamp': 1728925444.62054}, 'noisy_det_center': {'value': 0, 'timestamp': 1728925444.620662}, 'noisy_det_sigma': {'value': 1, 'timestamp': 1728925444.6211305}, 'noisy_det_noise': {'value': 'uniform', 'timestamp': 1728925444.6216068}, 'noisy_det_noise_multiplier': {'value': 0.1, 'timestamp': 1728925444.2935326}}).\n",
      "sim_rel_scan_plan(): noisy_det.noise._enum_strs=('none', 'poisson', 'uniform').\n",
      "\n",
      "\n",
      "Transient Scan ID: 72     Time: 2024-10-14 12:04:04\n",
      "Persistent Unique Scan ID: '5bb9d4d6-3b2b-4ed8-93f1-ead22cf0618a'\n",
      "New stream: 'primary'\n",
      "+-----------+------------+------------+------------+\n",
      "|   seq_num |       time |      motor |  noisy_det |\n",
      "+-----------+------------+------------+------------+\n",
      "|         1 | 12:04:04.6 |     -2.500 |    439.339 |\n",
      "|         2 | 12:04:04.6 |     -2.000 |   1353.275 |\n",
      "|         3 | 12:04:04.7 |     -1.500 |   3246.515 |\n",
      "|         4 | 12:04:04.7 |     -1.000 |   6065.329 |\n",
      "|         5 | 12:04:04.8 |     -0.500 |   8824.991 |\n",
      "|         6 | 12:04:04.8 |      0.000 |   9999.982 |\n",
      "|         7 | 12:04:04.9 |      0.500 |   8825.037 |\n",
      "|         8 | 12:04:04.9 |      1.000 |   6065.305 |\n",
      "|         9 | 12:04:04.9 |      1.500 |   3246.446 |\n",
      "|        10 | 12:04:05.0 |      2.000 |   1353.285 |\n",
      "|        11 | 12:04:05.0 |      2.500 |    439.333 |\n",
      "+-----------+------------+------------+------------+\n",
      "generator rel_scan ['5bb9d4d6'] (scan num: 72)\n",
      "\n",
      "\n",
      "\n"
     ]
    },
    {
     "data": {
      "text/plain": [
       "('5bb9d4d6-3b2b-4ed8-93f1-ead22cf0618a',)"
      ]
     },
     "execution_count": 5,
     "metadata": {},
     "output_type": "execute_result"
    },
    {
     "data": {
      "image/png": "[encoded data removed]",
      "text/plain": [
       "<Figure size 500x500 with 1 Axes>"
      ]
     },
     "metadata": {},
     "output_type": "display_data"
    }
   ],
   "source": [
    "RE(sim_rel_scan_plan())"
   ]
  }
 ],
 "metadata": {
  "kernelspec": {
   "display_name": "qs_session",
   "language": "python",
   "name": "python3"
  },
  "language_info": {
   "codemirror_mode": {
    "name": "ipython",
    "version": 3
   },
   "file_extension": ".py",
   "mimetype": "text/x-python",
   "name": "python",
   "nbconvert_exporter": "python",
   "pygments_lexer": "ipython3",
   "version": "3.12.6"
  }
 },
 "nbformat": 4,
 "nbformat_minor": 2
}
